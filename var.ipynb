{
 "cells": [
  {
   "cell_type": "code",
   "execution_count": 11,
   "metadata": {},
   "outputs": [],
   "source": [
    "import pandas as pd\n",
    "import numpy as np\n",
    "import matplotlib.pyplot as plt\n",
    "import statsmodels.api as sm\n",
    "from statsmodels.tsa.stattools import adfuller\n",
    "from tabulate import tabulate\n",
    "import warnings\n",
    "warnings.filterwarnings(\"ignore\")"
   ]
  },
  {
   "attachments": {},
   "cell_type": "markdown",
   "metadata": {},
   "source": [
    "Import data on this line. This line will also index the dates when importing properly."
   ]
  },
  {
   "cell_type": "code",
   "execution_count": 3,
   "metadata": {},
   "outputs": [],
   "source": [
    "df = pd.read_csv('C:/Users/dhruv/Documents/School/Time Series/code/varData.csv', index_col='dates', parse_dates=True)"
   ]
  },
  {
   "cell_type": "code",
   "execution_count": 9,
   "metadata": {},
   "outputs": [
    {
     "name": "stdout",
     "output_type": "stream",
     "text": [
      "                            OLS Regression Results                            \n",
      "==============================================================================\n",
      "Dep. Variable:             realpcedur   R-squared:                       0.333\n",
      "Model:                            OLS   Adj. R-squared:                  0.326\n",
      "Method:                 Least Squares   F-statistic:                     44.45\n",
      "Date:                Sat, 08 Apr 2023   Prob (F-statistic):           2.12e-09\n",
      "Time:                        11:23:16   Log-Likelihood:                -487.46\n",
      "No. Observations:                  91   AIC:                             978.9\n",
      "Df Residuals:                      89   BIC:                             983.9\n",
      "Df Model:                           1                                         \n",
      "Covariance Type:            nonrobust                                         \n",
      "===============================================================================\n",
      "                  coef    std err          t      P>|t|      [0.025      0.975]\n",
      "-------------------------------------------------------------------------------\n",
      "const         482.1408     20.090     24.000      0.000     442.223     522.058\n",
      "realOverall -5.666e-08    8.5e-09     -6.667      0.000   -7.36e-08   -3.98e-08\n",
      "==============================================================================\n",
      "Omnibus:                       19.843   Durbin-Watson:                   0.305\n",
      "Prob(Omnibus):                  0.000   Jarque-Bera (JB):               28.086\n",
      "Skew:                           0.985   Prob(JB):                     7.96e-07\n",
      "Kurtosis:                       4.879   Cond. No.                     8.73e+09\n",
      "==============================================================================\n",
      "\n",
      "Notes:\n",
      "[1] Standard Errors assume that the covariance matrix of the errors is correctly specified.\n",
      "[2] The condition number is large, 8.73e+09. This might indicate that there are\n",
      "strong multicollinearity or other numerical problems.\n"
     ]
    }
   ],
   "source": [
    "# extract the two variables from the dataframe\n",
    "X = df.iloc[:, 0] # the first variable (in column 0)\n",
    "y = df.iloc[:, 1] # the second variable (in column 1)\n",
    "\n",
    "# add a constant term to the input variables\n",
    "X = sm.add_constant(X)\n",
    "\n",
    "# create a linear regression model and fit the data\n",
    "model = sm.OLS(y, X).fit()\n",
    "\n",
    "# print a summary of the model\n",
    "print(model.summary())"
   ]
  },
  {
   "attachments": {},
   "cell_type": "markdown",
   "metadata": {},
   "source": [
    "We have 33% correlation with only one variable in our model so we might find something interesting in our VAR model."
   ]
  },
  {
   "cell_type": "code",
   "execution_count": 12,
   "metadata": {},
   "outputs": [
    {
     "name": "stdout",
     "output_type": "stream",
     "text": [
      "Model      ADF Statistic    p-value    5% Critical Value\n",
      "-------  ---------------  ---------  -------------------\n",
      "n              -0.527549  0.484767              -1.94457\n",
      "c              -3.16567   0.0220601             -2.89578\n",
      "ct             -3.19011   0.0863902             -3.46283\n"
     ]
    }
   ],
   "source": [
    "# Need to test for unit root again in the overall gross data\n",
    "models = ['n', 'c', 'ct']\n",
    "results = []\n",
    "for model in models:\n",
    "    result = adfuller(df['realOverall'], regression=model, autolag='AIC', maxlag=10)\n",
    "    results.append([model, result[0], result[1], result[4]['5%']])\n",
    "\n",
    "# Print results in a table\n",
    "results.append([model, result[0], result[1], result[4]['5%']])\n",
    "\n",
    "# Print results in a table\n",
    "headers = ['Model', 'ADF Statistic','p-value','5% Critical Value']\n",
    "print(tabulate(results[:-1], headers=headers))"
   ]
  },
  {
   "attachments": {},
   "cell_type": "markdown",
   "metadata": {},
   "source": [
    "We are going to have to first difference the overall gross data since right now it is non-stationary. Now we just have to check the durable goods data."
   ]
  },
  {
   "cell_type": "code",
   "execution_count": 18,
   "metadata": {},
   "outputs": [
    {
     "name": "stdout",
     "output_type": "stream",
     "text": [
      "Model      ADF Statistic    p-value    5% Critical Value\n",
      "-------  ---------------  ---------  -------------------\n",
      "n               0.893483   0.900311             -1.94453\n",
      "c              -1.6869     0.437875             -2.89538\n",
      "ct             -2.28641    0.441482             -3.46222\n"
     ]
    }
   ],
   "source": [
    "models = ['n', 'c', 'ct']\n",
    "results = []\n",
    "for model in models:\n",
    "    result = adfuller(df['realpcedur'], regression=model, autolag='AIC', maxlag=10)\n",
    "    results.append([model, result[0], result[1], result[4]['5%']])\n",
    "\n",
    "# Print results in a table\n",
    "results.append([model, result[0], result[1], result[4]['5%']])\n",
    "\n",
    "# Print results in a table\n",
    "headers = ['Model', 'ADF Statistic','p-value','5% Critical Value']\n",
    "print(tabulate(results[:-1], headers=headers))"
   ]
  },
  {
   "attachments": {},
   "cell_type": "markdown",
   "metadata": {},
   "source": [
    "These values are also nonstationary so we have to first difference these variables."
   ]
  },
  {
   "cell_type": "code",
   "execution_count": 21,
   "metadata": {},
   "outputs": [
    {
     "name": "stdout",
     "output_type": "stream",
     "text": [
      "Model      ADF Statistic     p-value    5% Critical Value\n",
      "-------  ---------------  ----------  -------------------\n",
      "n               -2.92026  0.00343404             -1.94453\n",
      "c               -3.10383  0.0262712              -2.89578\n",
      "ct              -3.11061  0.103729               -3.46283\n"
     ]
    },
    {
     "data": {
      "image/png": "[encoded data removed]",
      "text/plain": [
       "<Figure size 640x480 with 1 Axes>"
      ]
     },
     "metadata": {},
     "output_type": "display_data"
    }
   ],
   "source": [
    "# First differencing the two variables \n",
    "# Then we run the two tests again. Will be doing the test for pce first.\n",
    "stationary = df.diff().dropna()\n",
    "stationary['realpcedur'].plot()\n",
    "models = ['n', 'c', 'ct']\n",
    "results = []\n",
    "for model in models:\n",
    "    result = adfuller(stationary['realpcedur'], regression=model, autolag='AIC', maxlag=10)\n",
    "    results.append([model, result[0], result[1], result[4]['5%']])\n",
    "\n",
    "# Print results in a table\n",
    "headers = ['Model', 'ADF Statistic', 'p-value', '5% Critical Value']\n",
    "print(tabulate(results, headers=headers))"
   ]
  },
  {
   "cell_type": "code",
   "execution_count": 22,
   "metadata": {},
   "outputs": [
    {
     "name": "stdout",
     "output_type": "stream",
     "text": [
      "Model      ADF Statistic      p-value    5% Critical Value\n",
      "-------  ---------------  -----------  -------------------\n",
      "n               -4.93823  1.39508e-06             -1.94457\n",
      "c               -4.90646  3.38782e-05             -2.89619\n",
      "ct              -4.97069  0.000232574             -3.4676\n"
     ]
    }
   ],
   "source": [
    "models = ['n', 'c', 'ct']\n",
    "results = []\n",
    "for model in models:\n",
    "    result = adfuller(stationary['realOverall'], regression=model, autolag='AIC', maxlag=10)\n",
    "    results.append([model, result[0], result[1], result[4]['5%']])\n",
    "\n",
    "# Print results in a table\n",
    "headers = ['Model', 'ADF Statistic', 'p-value', '5% Critical Value']\n",
    "print(tabulate(results, headers=headers))"
   ]
  },
  {
   "attachments": {},
   "cell_type": "markdown",
   "metadata": {},
   "source": [
    "Now we know that both of the variables are stationary after the first difference."
   ]
  }
 ],
 "metadata": {
  "kernelspec": {
   "display_name": "Python 3",
   "language": "python",
   "name": "python3"
  },
  "language_info": {
   "codemirror_mode": {
    "name": "ipython",
    "version": 3
   },
   "file_extension": ".py",
   "mimetype": "text/x-python",
   "name": "python",
   "nbconvert_exporter": "python",
   "pygments_lexer": "ipython3",
   "version": "3.10.6"
  },
  "orig_nbformat": 4
 },
 "nbformat": 4,
 "nbformat_minor": 2
}
